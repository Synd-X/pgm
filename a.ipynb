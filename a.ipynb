{
 "cells": [
  {
   "cell_type": "code",
   "execution_count": null,
   "metadata": {},
   "outputs": [],
   "source": [
    "from pomegranate import BayesianNetwork, DiscreteDistribution, ConditionalProbabilityTable, Node\n",
    "\n",
    "# Define individual distributions\n",
    "rain = DiscreteDistribution({'yes': 0.2, 'no': 0.8})\n",
    "sprinkler = DiscreteDistribution({'yes': 0.1, 'no': 0.9})\n",
    "\n",
    "# Conditional Probability Table (CPT) for Wet Grass based on Rain and Sprinkler\n",
    "wet_grass_cpt = ConditionalProbabilityTable(\n",
    "    [['yes', 'yes', 'yes', 0.99],\n",
    "     ['yes', 'yes', 'no', 0.01],\n",
    "     ['yes', 'no', 'yes', 0.9],\n",
    "     ['yes', 'no', 'no', 0.1],\n",
    "     ['no', 'yes', 'yes', 0.8],\n",
    "     ['no', 'yes', 'no', 0.2],\n",
    "     ['no', 'no', 'yes', 0.0],\n",
    "     ['no', 'no', 'no', 1.0]], [rain, sprinkler]\n",
    ")\n",
    "\n",
    "# Create nodes for each variable\n",
    "rain_node = Node(rain, name=\"Rain\")\n",
    "sprinkler_node = Node(sprinkler, name=\"Sprinkler\")\n",
    "wet_grass_node = Node(wet_grass_cpt, name=\"Wet_Grass\")\n",
    "\n",
    "# Build the Bayesian Network and add edges\n",
    "model = BayesianNetwork(\"Wet Grass Model\")\n",
    "model.add_states(rain_node, sprinkler_node, wet_grass_node)\n",
    "model.add_edge(rain_node, wet_grass_node)\n",
    "model.add_edge(sprinkler_node, wet_grass_node)\n",
    "model.bake()"
   ]
  }
 ],
 "metadata": {
  "kernelspec": {
   "display_name": "Python 3",
   "language": "python",
   "name": "python3"
  },
  "language_info": {
   "codemirror_mode": {
    "name": "ipython",
    "version": 3
   },
   "file_extension": ".py",
   "mimetype": "text/x-python",
   "name": "python",
   "nbconvert_exporter": "python",
   "pygments_lexer": "ipython3",
   "version": "3.8"
  }
 },
 "nbformat": 4,
 "nbformat_minor": 4
}
